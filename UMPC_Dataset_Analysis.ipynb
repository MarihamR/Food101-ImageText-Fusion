{
 "cells": [
  {
   "cell_type": "markdown",
   "id": "ff814db1",
   "metadata": {},
   "source": [
    "# UMPC-Food101 Dataset Analysis"
   ]
  },
  {
   "cell_type": "code",
   "execution_count": 1,
   "id": "b7cdf173",
   "metadata": {},
   "outputs": [],
   "source": [
    "import pandas as pd\n",
    "import  os\n",
    "import numpy as np\n",
    "from os import listdir\n",
    "from PIL import Image\n",
    "import itertools\n",
    "from UMPC_Dataset import UMPC_FoodDataset"
   ]
  },
  {
   "cell_type": "code",
   "execution_count": 6,
   "id": "c399c38d",
   "metadata": {},
   "outputs": [],
   "source": [
    "root_dir=\"./datasets/Food101\"\n",
    "txt_folder=root_dir+\"/texts\"\n",
    "img_folder=root_dir+\"/images\""
   ]
  },
  {
   "cell_type": "markdown",
   "id": "7aa16167",
   "metadata": {},
   "source": [
    "## 1. Exploring and Prepross Current CSV"
   ]
  },
  {
   "cell_type": "code",
   "execution_count": 30,
   "id": "3a85cb6c",
   "metadata": {},
   "outputs": [
    {
     "data": {
      "text/html": [
       "<div>\n",
       "<style scoped>\n",
       "    .dataframe tbody tr th:only-of-type {\n",
       "        vertical-align: middle;\n",
       "    }\n",
       "\n",
       "    .dataframe tbody tr th {\n",
       "        vertical-align: top;\n",
       "    }\n",
       "\n",
       "    .dataframe thead th {\n",
       "        text-align: right;\n",
       "    }\n",
       "</style>\n",
       "<table border=\"1\" class=\"dataframe\">\n",
       "  <thead>\n",
       "    <tr style=\"text-align: right;\">\n",
       "      <th></th>\n",
       "      <th>Unnamed: 0</th>\n",
       "      <th>image_path</th>\n",
       "      <th>text</th>\n",
       "      <th>food</th>\n",
       "    </tr>\n",
       "  </thead>\n",
       "  <tbody>\n",
       "    <tr>\n",
       "      <th>0</th>\n",
       "      <td>0</td>\n",
       "      <td>apple_pie_175.jpg</td>\n",
       "      <td>My Apple Pie Recipe</td>\n",
       "      <td>apple_pie</td>\n",
       "    </tr>\n",
       "    <tr>\n",
       "      <th>1</th>\n",
       "      <td>1</td>\n",
       "      <td>apple_pie_107.jpg</td>\n",
       "      <td>Casa de Luna Creations: Apple Pie from Scratch</td>\n",
       "      <td>apple_pie</td>\n",
       "    </tr>\n",
       "    <tr>\n",
       "      <th>2</th>\n",
       "      <td>2</td>\n",
       "      <td>apple_pie_554.jpg</td>\n",
       "      <td>Vegan Smoothies: Recipe for Apple Pie Smoothie</td>\n",
       "      <td>apple_pie</td>\n",
       "    </tr>\n",
       "    <tr>\n",
       "      <th>3</th>\n",
       "      <td>3</td>\n",
       "      <td>apple_pie_445.jpg</td>\n",
       "      <td>Dessert Recipes #8   - My Honeys Place</td>\n",
       "      <td>apple_pie</td>\n",
       "    </tr>\n",
       "    <tr>\n",
       "      <th>4</th>\n",
       "      <td>4</td>\n",
       "      <td>apple_pie_12.jpg</td>\n",
       "      <td>How to Bake An Organic Apple PieSimple Daily R...</td>\n",
       "      <td>apple_pie</td>\n",
       "    </tr>\n",
       "    <tr>\n",
       "      <th>...</th>\n",
       "      <td>...</td>\n",
       "      <td>...</td>\n",
       "      <td>...</td>\n",
       "      <td>...</td>\n",
       "    </tr>\n",
       "    <tr>\n",
       "      <th>22711</th>\n",
       "      <td>22711</td>\n",
       "      <td>waffles_49.jpg</td>\n",
       "      <td>Classic Waffles Recipe | Basic Belgian Style W...</td>\n",
       "      <td>waffles</td>\n",
       "    </tr>\n",
       "    <tr>\n",
       "      <th>22712</th>\n",
       "      <td>22712</td>\n",
       "      <td>waffles_75.jpg</td>\n",
       "      <td>Toasty Pumpkin Waffles Recipe | Taste of Home</td>\n",
       "      <td>waffles</td>\n",
       "    </tr>\n",
       "    <tr>\n",
       "      <th>22713</th>\n",
       "      <td>22713</td>\n",
       "      <td>waffles_320.jpg</td>\n",
       "      <td>Sourdough Waffles&amp;nbsp;|&amp;nbsp;']</td>\n",
       "      <td>waffles</td>\n",
       "    </tr>\n",
       "    <tr>\n",
       "      <th>22714</th>\n",
       "      <td>22714</td>\n",
       "      <td>waffles_17.jpg</td>\n",
       "      <td>Waffles Recipes - Pham Fatale</td>\n",
       "      <td>waffles</td>\n",
       "    </tr>\n",
       "    <tr>\n",
       "      <th>22715</th>\n",
       "      <td>22715</td>\n",
       "      <td>waffles_824.jpg</td>\n",
       "      <td>Recipe Makeover: Healthier Whole Wheat Waffles...</td>\n",
       "      <td>waffles</td>\n",
       "    </tr>\n",
       "  </tbody>\n",
       "</table>\n",
       "<p>22716 rows × 4 columns</p>\n",
       "</div>"
      ],
      "text/plain": [
       "       Unnamed: 0         image_path  \\\n",
       "0               0  apple_pie_175.jpg   \n",
       "1               1  apple_pie_107.jpg   \n",
       "2               2  apple_pie_554.jpg   \n",
       "3               3  apple_pie_445.jpg   \n",
       "4               4   apple_pie_12.jpg   \n",
       "...           ...                ...   \n",
       "22711       22711     waffles_49.jpg   \n",
       "22712       22712     waffles_75.jpg   \n",
       "22713       22713    waffles_320.jpg   \n",
       "22714       22714     waffles_17.jpg   \n",
       "22715       22715    waffles_824.jpg   \n",
       "\n",
       "                                                    text       food  \n",
       "0                                    My Apple Pie Recipe  apple_pie  \n",
       "1         Casa de Luna Creations: Apple Pie from Scratch  apple_pie  \n",
       "2         Vegan Smoothies: Recipe for Apple Pie Smoothie  apple_pie  \n",
       "3                 Dessert Recipes #8   - My Honeys Place  apple_pie  \n",
       "4      How to Bake An Organic Apple PieSimple Daily R...  apple_pie  \n",
       "...                                                  ...        ...  \n",
       "22711  Classic Waffles Recipe | Basic Belgian Style W...    waffles  \n",
       "22712      Toasty Pumpkin Waffles Recipe | Taste of Home    waffles  \n",
       "22713                   Sourdough Waffles&nbsp;|&nbsp;']    waffles  \n",
       "22714                      Waffles Recipes - Pham Fatale    waffles  \n",
       "22715  Recipe Makeover: Healthier Whole Wheat Waffles...    waffles  \n",
       "\n",
       "[22716 rows x 4 columns]"
      ]
     },
     "execution_count": 30,
     "metadata": {},
     "output_type": "execute_result"
    }
   ],
   "source": [
    "train=pd.read_csv(txt_folder+\"/train.csv\")\n",
    "test=pd.read_csv(txt_folder+\"/test.csv\")\n",
    "test"
   ]
  },
  {
   "cell_type": "markdown",
   "id": "fa36f52e",
   "metadata": {},
   "source": [
    "### 2. Remove first redundant Column `\"Unnamed: 0\"` and save new csv"
   ]
  },
  {
   "cell_type": "code",
   "execution_count": 32,
   "id": "11befc8f",
   "metadata": {},
   "outputs": [],
   "source": [
    "train=train.drop(\"Unnamed: 0\",axis=1)\n",
    "test= test.drop(\"Unnamed: 0\",axis=1)"
   ]
  },
  {
   "cell_type": "code",
   "execution_count": 33,
   "id": "062a92e4",
   "metadata": {},
   "outputs": [],
   "source": [
    "train.to_csv(txt_folder+\"/train_new.csv\",index=False)\n",
    "test.to_csv(txt_folder+\"/test_new.csv\",index=False)"
   ]
  },
  {
   "cell_type": "markdown",
   "id": "d3380c4f",
   "metadata": {},
   "source": [
    "### 3. Remove (.txt) and replace it with (.jpg) in mis-named image paths and save new csv"
   ]
  },
  {
   "cell_type": "code",
   "execution_count": 35,
   "id": "420f8365",
   "metadata": {},
   "outputs": [],
   "source": [
    "def prepross_Csv(target):\n",
    "    csv_file=txt_folder+target+\"_new.csv\"\n",
    "    image_path=[]\n",
    "    text=[]\n",
    "    label=[]\n",
    "    with open (csv_file,\"r\") as file:\n",
    "        for i,row in enumerate(file):\n",
    "            if i>=1: #exclude Header\n",
    "                img_path,txt,lbl=row.split(\",\")\n",
    "                lbl=lbl.replace(\"\\n\", \"\")\n",
    "                img_path=img_path.replace(\"txt\",\"jpg\")\n",
    "                image_path.append(img_path)\n",
    "                text.append(txt)\n",
    "                label.append(lbl)\n",
    "\n",
    "    dictionary={\"Image_path\":image_path,'text':text,'label':label}\n",
    "    df_dictionary=pd.DataFrame(dictionary)\n",
    "    df_dictionary.to_csv(f\"./datasets/Food101/texts/{target}_V2.csv\",index=False)\n",
    "\n",
    "target1=\"/train\"\n",
    "target2=\"/test\"\n",
    "prepross_Csv(target1)\n",
    "prepross_Csv(target2)"
   ]
  },
  {
   "cell_type": "code",
   "execution_count": 7,
   "id": "460d41dc",
   "metadata": {},
   "outputs": [
    {
     "data": {
      "text/html": [
       "<div>\n",
       "<style scoped>\n",
       "    .dataframe tbody tr th:only-of-type {\n",
       "        vertical-align: middle;\n",
       "    }\n",
       "\n",
       "    .dataframe tbody tr th {\n",
       "        vertical-align: top;\n",
       "    }\n",
       "\n",
       "    .dataframe thead th {\n",
       "        text-align: right;\n",
       "    }\n",
       "</style>\n",
       "<table border=\"1\" class=\"dataframe\">\n",
       "  <thead>\n",
       "    <tr style=\"text-align: right;\">\n",
       "      <th></th>\n",
       "      <th>Image_path</th>\n",
       "      <th>text</th>\n",
       "      <th>label</th>\n",
       "    </tr>\n",
       "  </thead>\n",
       "  <tbody>\n",
       "    <tr>\n",
       "      <th>0</th>\n",
       "      <td>apple_pie_851.jpg</td>\n",
       "      <td>Crock-Pot Ladies  Crock-Pot Apple Pie Moonshine</td>\n",
       "      <td>apple_pie</td>\n",
       "    </tr>\n",
       "    <tr>\n",
       "      <th>1</th>\n",
       "      <td>apple_pie_140.jpg</td>\n",
       "      <td>Mom's Maple-Apple Pie Recipe | Taste of Home</td>\n",
       "      <td>apple_pie</td>\n",
       "    </tr>\n",
       "    <tr>\n",
       "      <th>2</th>\n",
       "      <td>apple_pie_858.jpg</td>\n",
       "      <td>Cookin&amp;#8217; Canuck &amp;#8211; Baked Apple Pie E...</td>\n",
       "      <td>apple_pie</td>\n",
       "    </tr>\n",
       "    <tr>\n",
       "      <th>3</th>\n",
       "      <td>apple_pie_449.jpg</td>\n",
       "      <td>Dutch Apple Pie Recipe | Just A Pinch Recipes</td>\n",
       "      <td>apple_pie</td>\n",
       "    </tr>\n",
       "    <tr>\n",
       "      <th>4</th>\n",
       "      <td>apple_pie_695.jpg</td>\n",
       "      <td>Our Share of the Harvest &amp;raquo; Grandma&amp;#8217...</td>\n",
       "      <td>apple_pie</td>\n",
       "    </tr>\n",
       "    <tr>\n",
       "      <th>...</th>\n",
       "      <td>...</td>\n",
       "      <td>...</td>\n",
       "      <td>...</td>\n",
       "    </tr>\n",
       "    <tr>\n",
       "      <th>67983</th>\n",
       "      <td>waffles_198.jpg</td>\n",
       "      <td>Honey Pumpkin Waffles Recipe | Friends Drift I...</td>\n",
       "      <td>waffles</td>\n",
       "    </tr>\n",
       "    <tr>\n",
       "      <th>67984</th>\n",
       "      <td>waffles_760.jpg</td>\n",
       "      <td>Awfully Good Waffles RecipesFavorite Food Reci...</td>\n",
       "      <td>waffles</td>\n",
       "    </tr>\n",
       "    <tr>\n",
       "      <th>67985</th>\n",
       "      <td>waffles_621.jpg</td>\n",
       "      <td>Breakfast Recipes - GOODEness Gracious</td>\n",
       "      <td>waffles</td>\n",
       "    </tr>\n",
       "    <tr>\n",
       "      <th>67986</th>\n",
       "      <td>waffles_639.jpg</td>\n",
       "      <td>Isabel&amp;#39;s Coconut Waffles | Recipes |  Beyo...</td>\n",
       "      <td>waffles</td>\n",
       "    </tr>\n",
       "    <tr>\n",
       "      <th>67987</th>\n",
       "      <td>waffles_276.jpg</td>\n",
       "      <td>Red Velvet Waffles with Cream Cheese Icing Dri...</td>\n",
       "      <td>waffles</td>\n",
       "    </tr>\n",
       "  </tbody>\n",
       "</table>\n",
       "<p>67988 rows × 3 columns</p>\n",
       "</div>"
      ],
      "text/plain": [
       "              Image_path                                               text  \\\n",
       "0      apple_pie_851.jpg    Crock-Pot Ladies  Crock-Pot Apple Pie Moonshine   \n",
       "1      apple_pie_140.jpg       Mom's Maple-Apple Pie Recipe | Taste of Home   \n",
       "2      apple_pie_858.jpg  Cookin&#8217; Canuck &#8211; Baked Apple Pie E...   \n",
       "3      apple_pie_449.jpg      Dutch Apple Pie Recipe | Just A Pinch Recipes   \n",
       "4      apple_pie_695.jpg  Our Share of the Harvest &raquo; Grandma&#8217...   \n",
       "...                  ...                                                ...   \n",
       "67983    waffles_198.jpg  Honey Pumpkin Waffles Recipe | Friends Drift I...   \n",
       "67984    waffles_760.jpg  Awfully Good Waffles RecipesFavorite Food Reci...   \n",
       "67985    waffles_621.jpg             Breakfast Recipes - GOODEness Gracious   \n",
       "67986    waffles_639.jpg  Isabel&#39;s Coconut Waffles | Recipes |  Beyo...   \n",
       "67987    waffles_276.jpg  Red Velvet Waffles with Cream Cheese Icing Dri...   \n",
       "\n",
       "           label  \n",
       "0      apple_pie  \n",
       "1      apple_pie  \n",
       "2      apple_pie  \n",
       "3      apple_pie  \n",
       "4      apple_pie  \n",
       "...          ...  \n",
       "67983    waffles  \n",
       "67984    waffles  \n",
       "67985    waffles  \n",
       "67986    waffles  \n",
       "67987    waffles  \n",
       "\n",
       "[67988 rows x 3 columns]"
      ]
     },
     "execution_count": 7,
     "metadata": {},
     "output_type": "execute_result"
    }
   ],
   "source": [
    "train=pd.read_csv(txt_folder+\"/train_V2.csv\")\n",
    "train"
   ]
  },
  {
   "cell_type": "code",
   "execution_count": 13,
   "id": "ede29b64",
   "metadata": {},
   "outputs": [
    {
     "data": {
      "text/html": [
       "<div>\n",
       "<style scoped>\n",
       "    .dataframe tbody tr th:only-of-type {\n",
       "        vertical-align: middle;\n",
       "    }\n",
       "\n",
       "    .dataframe tbody tr th {\n",
       "        vertical-align: top;\n",
       "    }\n",
       "\n",
       "    .dataframe thead th {\n",
       "        text-align: right;\n",
       "    }\n",
       "</style>\n",
       "<table border=\"1\" class=\"dataframe\">\n",
       "  <thead>\n",
       "    <tr style=\"text-align: right;\">\n",
       "      <th></th>\n",
       "      <th>Image_path</th>\n",
       "      <th>text</th>\n",
       "      <th>label</th>\n",
       "    </tr>\n",
       "  </thead>\n",
       "  <tbody>\n",
       "    <tr>\n",
       "      <th>0</th>\n",
       "      <td>apple_pie_175.jpg</td>\n",
       "      <td>My Apple Pie Recipe</td>\n",
       "      <td>apple_pie</td>\n",
       "    </tr>\n",
       "    <tr>\n",
       "      <th>1</th>\n",
       "      <td>apple_pie_107.jpg</td>\n",
       "      <td>Casa de Luna Creations: Apple Pie from Scratch</td>\n",
       "      <td>apple_pie</td>\n",
       "    </tr>\n",
       "    <tr>\n",
       "      <th>2</th>\n",
       "      <td>apple_pie_554.jpg</td>\n",
       "      <td>Vegan Smoothies: Recipe for Apple Pie Smoothie</td>\n",
       "      <td>apple_pie</td>\n",
       "    </tr>\n",
       "    <tr>\n",
       "      <th>3</th>\n",
       "      <td>apple_pie_445.jpg</td>\n",
       "      <td>Dessert Recipes #8   - My Honeys Place</td>\n",
       "      <td>apple_pie</td>\n",
       "    </tr>\n",
       "    <tr>\n",
       "      <th>4</th>\n",
       "      <td>apple_pie_12.jpg</td>\n",
       "      <td>How to Bake An Organic Apple PieSimple Daily R...</td>\n",
       "      <td>apple_pie</td>\n",
       "    </tr>\n",
       "    <tr>\n",
       "      <th>...</th>\n",
       "      <td>...</td>\n",
       "      <td>...</td>\n",
       "      <td>...</td>\n",
       "    </tr>\n",
       "    <tr>\n",
       "      <th>22711</th>\n",
       "      <td>waffles_49.jpg</td>\n",
       "      <td>Classic Waffles Recipe | Basic Belgian Style W...</td>\n",
       "      <td>waffles</td>\n",
       "    </tr>\n",
       "    <tr>\n",
       "      <th>22712</th>\n",
       "      <td>waffles_75.jpg</td>\n",
       "      <td>Toasty Pumpkin Waffles Recipe | Taste of Home</td>\n",
       "      <td>waffles</td>\n",
       "    </tr>\n",
       "    <tr>\n",
       "      <th>22713</th>\n",
       "      <td>waffles_320.jpg</td>\n",
       "      <td>Sourdough Waffles&amp;nbsp;|&amp;nbsp;']</td>\n",
       "      <td>waffles</td>\n",
       "    </tr>\n",
       "    <tr>\n",
       "      <th>22714</th>\n",
       "      <td>waffles_17.jpg</td>\n",
       "      <td>Waffles Recipes - Pham Fatale</td>\n",
       "      <td>waffles</td>\n",
       "    </tr>\n",
       "    <tr>\n",
       "      <th>22715</th>\n",
       "      <td>waffles_824.jpg</td>\n",
       "      <td>Recipe Makeover: Healthier Whole Wheat Waffles...</td>\n",
       "      <td>waffles</td>\n",
       "    </tr>\n",
       "  </tbody>\n",
       "</table>\n",
       "<p>22716 rows × 3 columns</p>\n",
       "</div>"
      ],
      "text/plain": [
       "              Image_path                                               text  \\\n",
       "0      apple_pie_175.jpg                                My Apple Pie Recipe   \n",
       "1      apple_pie_107.jpg     Casa de Luna Creations: Apple Pie from Scratch   \n",
       "2      apple_pie_554.jpg     Vegan Smoothies: Recipe for Apple Pie Smoothie   \n",
       "3      apple_pie_445.jpg             Dessert Recipes #8   - My Honeys Place   \n",
       "4       apple_pie_12.jpg  How to Bake An Organic Apple PieSimple Daily R...   \n",
       "...                  ...                                                ...   \n",
       "22711     waffles_49.jpg  Classic Waffles Recipe | Basic Belgian Style W...   \n",
       "22712     waffles_75.jpg      Toasty Pumpkin Waffles Recipe | Taste of Home   \n",
       "22713    waffles_320.jpg                   Sourdough Waffles&nbsp;|&nbsp;']   \n",
       "22714     waffles_17.jpg                      Waffles Recipes - Pham Fatale   \n",
       "22715    waffles_824.jpg  Recipe Makeover: Healthier Whole Wheat Waffles...   \n",
       "\n",
       "           label  \n",
       "0      apple_pie  \n",
       "1      apple_pie  \n",
       "2      apple_pie  \n",
       "3      apple_pie  \n",
       "4      apple_pie  \n",
       "...          ...  \n",
       "22711    waffles  \n",
       "22712    waffles  \n",
       "22713    waffles  \n",
       "22714    waffles  \n",
       "22715    waffles  \n",
       "\n",
       "[22716 rows x 3 columns]"
      ]
     },
     "execution_count": 13,
     "metadata": {},
     "output_type": "execute_result"
    }
   ],
   "source": [
    "test=pd.read_csv(txt_folder+\"/test_V2.csv\")\n",
    "test"
   ]
  },
  {
   "cell_type": "markdown",
   "id": "da6280cd",
   "metadata": {},
   "source": [
    "## 2. UMPC Food Dataset Class"
   ]
  },
  {
   "cell_type": "markdown",
   "id": "1bcb6cd1",
   "metadata": {},
   "source": [
    "## 2.1 Train set with mode=\"all\" (image+text)"
   ]
  },
  {
   "cell_type": "code",
   "execution_count": 2,
   "id": "8f5426fc",
   "metadata": {},
   "outputs": [],
   "source": [
    "trainset=UMPC_FoodDataset(targ_dir=\"./datasets/Food101\" ,phase=\"train\", transform=None)"
   ]
  },
  {
   "cell_type": "code",
   "execution_count": 3,
   "id": "9107f60b",
   "metadata": {},
   "outputs": [
    {
     "name": "stdout",
     "output_type": "stream",
     "text": [
      "67988\n"
     ]
    },
    {
     "data": {
      "text/plain": [
       "(<PIL.Image.Image image mode=RGB size=400x293 at 0x7F6FE7868400>,\n",
       " {'input_ids': tensor([  101, 13675,  7432,  1011,  8962,  6456, 13675,  7432,  1011,  8962,\n",
       "           6207, 11345, 23377, 14014,   102,     0,     0,     0,     0,     0,\n",
       "              0,     0,     0,     0,     0,     0,     0,     0,     0,     0,\n",
       "              0,     0,     0,     0,     0,     0,     0,     0,     0,     0]),\n",
       "  'token_type_ids': tensor([0, 0, 0, 0, 0, 0, 0, 0, 0, 0, 0, 0, 0, 0, 0, 0, 0, 0, 0, 0, 0, 0, 0, 0,\n",
       "          0, 0, 0, 0, 0, 0, 0, 0, 0, 0, 0, 0, 0, 0, 0, 0]),\n",
       "  'attention_mask': tensor([1, 1, 1, 1, 1, 1, 1, 1, 1, 1, 1, 1, 1, 1, 1, 0, 0, 0, 0, 0, 0, 0, 0, 0,\n",
       "          0, 0, 0, 0, 0, 0, 0, 0, 0, 0, 0, 0, 0, 0, 0, 0])},\n",
       " 'Crock-Pot Ladies  Crock-Pot Apple Pie Moonshine',\n",
       " 0)"
      ]
     },
     "execution_count": 3,
     "metadata": {},
     "output_type": "execute_result"
    }
   ],
   "source": [
    "print(len(trainset))\n",
    "trainset[0]"
   ]
  },
  {
   "cell_type": "code",
   "execution_count": 40,
   "id": "aef75475",
   "metadata": {},
   "outputs": [
    {
     "data": {
      "text/plain": [
       "['apple_pie',\n",
       " 'baby_back_ribs',\n",
       " 'baklava',\n",
       " 'beef_carpaccio',\n",
       " 'beef_tartare',\n",
       " 'beet_salad',\n",
       " 'beignets',\n",
       " 'bibimbap',\n",
       " 'bread_pudding',\n",
       " 'breakfast_burrito']"
      ]
     },
     "execution_count": 40,
     "metadata": {},
     "output_type": "execute_result"
    }
   ],
   "source": [
    "trainset.classes[:10]"
   ]
  },
  {
   "cell_type": "code",
   "execution_count": 41,
   "id": "d26cbd22",
   "metadata": {},
   "outputs": [
    {
     "data": {
      "text/plain": [
       "{'apple_pie': 0,\n",
       " 'baby_back_ribs': 1,\n",
       " 'baklava': 2,\n",
       " 'beef_carpaccio': 3,\n",
       " 'beef_tartare': 4,\n",
       " 'beet_salad': 5,\n",
       " 'beignets': 6,\n",
       " 'bibimbap': 7,\n",
       " 'bread_pudding': 8,\n",
       " 'breakfast_burrito': 9}"
      ]
     },
     "execution_count": 41,
     "metadata": {},
     "output_type": "execute_result"
    }
   ],
   "source": [
    "dict(itertools.islice(trainset.class_to_idx.items(), 10))"
   ]
  },
  {
   "cell_type": "code",
   "execution_count": 42,
   "id": "5797ab4a",
   "metadata": {},
   "outputs": [
    {
     "data": {
      "text/plain": [
       "{0: 'apple_pie',\n",
       " 1: 'baby_back_ribs',\n",
       " 2: 'baklava',\n",
       " 3: 'beef_carpaccio',\n",
       " 4: 'beef_tartare',\n",
       " 5: 'beet_salad',\n",
       " 6: 'beignets',\n",
       " 7: 'bibimbap',\n",
       " 8: 'bread_pudding',\n",
       " 9: 'breakfast_burrito'}"
      ]
     },
     "execution_count": 42,
     "metadata": {},
     "output_type": "execute_result"
    }
   ],
   "source": [
    "dict(itertools.islice(trainset.idx_to_class.items(), 10))"
   ]
  },
  {
   "cell_type": "markdown",
   "id": "18c9511a",
   "metadata": {},
   "source": [
    "## 2.2 Test set with mode=\"text only\" "
   ]
  },
  {
   "cell_type": "code",
   "execution_count": 38,
   "id": "73d5b182",
   "metadata": {},
   "outputs": [
    {
     "name": "stdout",
     "output_type": "stream",
     "text": [
      "22716\n"
     ]
    },
    {
     "data": {
      "text/plain": [
       "({'input_ids': tensor([  101,  2026,  6207, 11345, 17974,   102,     0,     0,     0,     0,\n",
       "              0,     0,     0,     0,     0,     0,     0,     0,     0,     0,\n",
       "              0,     0,     0,     0,     0,     0,     0,     0,     0,     0,\n",
       "              0,     0,     0,     0,     0,     0,     0,     0,     0,     0]),\n",
       "  'token_type_ids': tensor([0, 0, 0, 0, 0, 0, 0, 0, 0, 0, 0, 0, 0, 0, 0, 0, 0, 0, 0, 0, 0, 0, 0, 0,\n",
       "          0, 0, 0, 0, 0, 0, 0, 0, 0, 0, 0, 0, 0, 0, 0, 0]),\n",
       "  'attention_mask': tensor([1, 1, 1, 1, 1, 1, 0, 0, 0, 0, 0, 0, 0, 0, 0, 0, 0, 0, 0, 0, 0, 0, 0, 0,\n",
       "          0, 0, 0, 0, 0, 0, 0, 0, 0, 0, 0, 0, 0, 0, 0, 0])},\n",
       " 'My Apple Pie Recipe',\n",
       " 0)"
      ]
     },
     "execution_count": 38,
     "metadata": {},
     "output_type": "execute_result"
    }
   ],
   "source": [
    "testset=UMPC_FoodDataset(targ_dir=\"./datasets/Food101\" ,phase=\"test\", mode=\"Text_only\",transform=None)\n",
    "print(len(testset))\n",
    "testset[0]"
   ]
  },
  {
   "cell_type": "code",
   "execution_count": 45,
   "id": "f7dfc7aa",
   "metadata": {},
   "outputs": [
    {
     "data": {
      "text/plain": [
       "'apple_pie'"
      ]
     },
     "execution_count": 45,
     "metadata": {},
     "output_type": "execute_result"
    }
   ],
   "source": [
    "txt_token,txt,lbl=testset[0]\n",
    "idx_to_class[lbl]"
   ]
  },
  {
   "cell_type": "markdown",
   "id": "b77aaa93",
   "metadata": {},
   "source": [
    "## 3. Classes Distribution"
   ]
  },
  {
   "cell_type": "code",
   "execution_count": 8,
   "id": "51109e0a",
   "metadata": {},
   "outputs": [
    {
     "data": {
      "text/plain": [
       "lobster_bisque         591\n",
       "escargots              603\n",
       "hot_and_sour_soup      608\n",
       "fish_and_chips         624\n",
       "poutine                630\n",
       "                      ... \n",
       "ravioli                705\n",
       "risotto                708\n",
       "sushi                  710\n",
       "french_toast           711\n",
       "macaroni_and_cheese    713\n",
       "Name: label, Length: 101, dtype: int64"
      ]
     },
     "execution_count": 8,
     "metadata": {},
     "output_type": "execute_result"
    }
   ],
   "source": [
    "#Train Set\n",
    "ClassesTrain=train[\"label\"].value_counts().sort_values()\n",
    "ClassesTrain"
   ]
  },
  {
   "cell_type": "code",
   "execution_count": 12,
   "id": "5785a3c8",
   "metadata": {},
   "outputs": [
    {
     "data": {
      "text/plain": [
       "<AxesSubplot: >"
      ]
     },
     "execution_count": 12,
     "metadata": {},
     "output_type": "execute_result"
    },
    {
     "data": {
      "image/png": "[encoded data removed]",
      "text/plain": [
       "<Figure size 1000x500 with 1 Axes>"
      ]
     },
     "metadata": {},
     "output_type": "display_data"
    }
   ],
   "source": [
    "ClassesTrain[:40].plot(kind='bar',figsize=(10,5),colormap=\"Pastel2\",grid=True)"
   ]
  },
  {
   "cell_type": "code",
   "execution_count": 14,
   "id": "a94c709b",
   "metadata": {},
   "outputs": [
    {
     "data": {
      "text/plain": [
       "lobster_bisque         197\n",
       "escargots              202\n",
       "hot_and_sour_soup      203\n",
       "fish_and_chips         208\n",
       "poutine                210\n",
       "                      ... \n",
       "ravioli                236\n",
       "risotto                236\n",
       "sushi                  237\n",
       "macaroni_and_cheese    238\n",
       "french_toast           238\n",
       "Name: label, Length: 101, dtype: int64"
      ]
     },
     "execution_count": 14,
     "metadata": {},
     "output_type": "execute_result"
    }
   ],
   "source": [
    "#Test Set\n",
    "ClassesTest=test[\"label\"].value_counts().sort_values()\n",
    "ClassesTest"
   ]
  },
  {
   "cell_type": "code",
   "execution_count": 16,
   "id": "e9409a46",
   "metadata": {},
   "outputs": [
    {
     "data": {
      "text/plain": [
       "<AxesSubplot: >"
      ]
     },
     "execution_count": 16,
     "metadata": {},
     "output_type": "execute_result"
    },
    {
     "data": {
      "image/png": "[encoded data removed]",
      "text/plain": [
       "<Figure size 1000x500 with 1 Axes>"
      ]
     },
     "metadata": {},
     "output_type": "display_data"
    }
   ],
   "source": [
    "ClassesTest[:40].plot(kind='bar',figsize=(10,5),colormap=\"Pastel2\",grid=True)"
   ]
  },
  {
   "cell_type": "markdown",
   "id": "a76e88c5",
   "metadata": {},
   "source": [
    "## 4. Check if there is a missing or corrupted files "
   ]
  },
  {
   "cell_type": "markdown",
   "id": "a09e6455",
   "metadata": {},
   "source": [
    "#### Check for empty image path"
   ]
  },
  {
   "cell_type": "code",
   "execution_count": 17,
   "id": "5889a95e",
   "metadata": {},
   "outputs": [
    {
     "data": {
      "text/html": [
       "<div>\n",
       "<style scoped>\n",
       "    .dataframe tbody tr th:only-of-type {\n",
       "        vertical-align: middle;\n",
       "    }\n",
       "\n",
       "    .dataframe tbody tr th {\n",
       "        vertical-align: top;\n",
       "    }\n",
       "\n",
       "    .dataframe thead th {\n",
       "        text-align: right;\n",
       "    }\n",
       "</style>\n",
       "<table border=\"1\" class=\"dataframe\">\n",
       "  <thead>\n",
       "    <tr style=\"text-align: right;\">\n",
       "      <th></th>\n",
       "      <th>Image_path</th>\n",
       "      <th>text</th>\n",
       "      <th>label</th>\n",
       "    </tr>\n",
       "  </thead>\n",
       "  <tbody>\n",
       "  </tbody>\n",
       "</table>\n",
       "</div>"
      ],
      "text/plain": [
       "Empty DataFrame\n",
       "Columns: [Image_path, text, label]\n",
       "Index: []"
      ]
     },
     "execution_count": 17,
     "metadata": {},
     "output_type": "execute_result"
    }
   ],
   "source": [
    "# creating bool series True for NaN values\n",
    "bool_series = pd.isnull(train[\"Image_path\"])\n",
    " \n",
    "# filtering data\n",
    "# displaying data only with team = NaN\n",
    "train[bool_series]"
   ]
  },
  {
   "cell_type": "markdown",
   "id": "e0c13847",
   "metadata": {},
   "source": [
    "#### Check if an image path doesnt exist"
   ]
  },
  {
   "cell_type": "code",
   "execution_count": 27,
   "id": "a079e9e5",
   "metadata": {},
   "outputs": [
    {
     "name": "stdout",
     "output_type": "stream",
     "text": [
      "0\n"
     ]
    }
   ],
   "source": [
    "doesnt_exist=[]\n",
    "with open (\"./datasets/Food101/texts/train_V2.csv\",\"r\") as file:\n",
    "    for i,row in enumerate(file):\n",
    "        if i>=1: #exclude Header\n",
    "            #print(i)\n",
    "            img_path,txt,lbl=row.split(\",\")\n",
    "            lbl=lbl.replace(\"\\n\",\"\")\n",
    "            isExist = os.path.exists(f'./datasets/Food101/images/train/{lbl}/{img_path}')\n",
    "            #print()\n",
    "            if not isExist:\n",
    "                doesnt_exist.append(img_path)\n",
    "print(len(doesnt_exist) ) "
   ]
  },
  {
   "cell_type": "markdown",
   "id": "960a228f",
   "metadata": {},
   "source": [
    "#### Check if there is an corrupted image"
   ]
  },
  {
   "cell_type": "code",
   "execution_count": null,
   "id": "cd0be436",
   "metadata": {},
   "outputs": [],
   "source": [
    "from os import listdir\n",
    "from PIL import Image\n",
    "\n",
    "with open (\"./datasets/Food101/texts/train_V2.csv\",\"r\") as file:\n",
    "    for i,row in enumerate(file):\n",
    "        if i>=1: #exclude Header\n",
    "            img_path,txt,lbl=row.split(\",\")\n",
    "            lbl=lbl.replace(\"\\n\",\"\")\n",
    "            try:\n",
    "                img = Image.open(f'./datasets/Food101/images/train/{lbl}/{img_path}') # open the image file\n",
    "                img.verify() # verify that it is, in fact an image\n",
    "            except:\n",
    "                print('Bad file:', filename) # print out the names of corrupt files\n",
    "                "
   ]
  }
 ],
 "metadata": {
  "kernelspec": {
   "display_name": "Python 3 (ipykernel)",
   "language": "python",
   "name": "python3"
  },
  "language_info": {
   "codemirror_mode": {
    "name": "ipython",
    "version": 3
   },
   "file_extension": ".py",
   "mimetype": "text/x-python",
   "name": "python",
   "nbconvert_exporter": "python",
   "pygments_lexer": "ipython3",
   "version": "3.9.12"
  }
 },
 "nbformat": 4,
 "nbformat_minor": 5
}
